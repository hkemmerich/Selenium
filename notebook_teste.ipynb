{
 "cells": [
  {
   "cell_type": "code",
   "execution_count": null,
   "metadata": {},
   "outputs": [],
   "source": [
    "import pandas as pd\n",
    "from selenium import webdriver\n",
    "from selenium.webdriver.common.by import By\n",
    "import time\n"
   ]
  },
  {
   "cell_type": "code",
   "execution_count": null,
   "metadata": {},
   "outputs": [],
   "source": [
    "telefones = pd.read_excel('dataframe.xlsx')"
   ]
  },
  {
   "cell_type": "code",
   "execution_count": null,
   "metadata": {},
   "outputs": [],
   "source": [
    "# Initialize the webdriver\n",
    "driver = webdriver.Chrome()\n",
    "\n",
    "# # Navigate to the website you want to search\n",
    "driver.get(\"www.page.com\")"
   ]
  },
  {
   "cell_type": "code",
   "execution_count": null,
   "metadata": {},
   "outputs": [],
   "source": [
    "# Define the XPath for the search input element\n",
    "search_input_xpath = '//*[@id=\"email-celular\"]'\n",
    "\n",
    "# Loop through each phone number and search for it on the website\n",
    "for index, row in telefones.iterrows():\n",
    "    \n",
    "    telefone = row['Telefone do contato']\n",
    "\n",
    "    # Find the search input element using the XPath variable\n",
    "    search_input = driver.find_element(By.XPATH, search_input_xpath)\n",
    "\n",
    "    # Enter the phone number into the search input\n",
    "    search_input.send_keys(telefone)\n",
    "\n",
    "    # Find the search button and click it\n",
    "    search_button = driver.find_element(By.XPATH, '//*[@id=\"basic-addon1\"]')\n",
    "    search_button.click()\n",
    "    time.sleep(1)\n",
    "    \n",
    "    try:\n",
    "        \n",
    "        # Copy the element using the XCSS_SELECTOR variable 'Example'\n",
    "        elemento = driver.find_element(By.CSS_SELECTOR, '#ember426 > div.main > span > div > div.row > div > div > div.col-xs-12.consulta-cpf > div.filter-status-bar > ul > li:nth-child(3) > span.text-color-green.glyphicon.glyphicon-ok-sign')\n",
    "       \n",
    "        telefones.at[index, 'ContaAtiva'] = 'Sim'\n",
    "\n",
    "\n",
    "    except :\n",
    "        telefones.at[index, 'ContaAtiva'] = 'Nao'       \n",
    "\n",
    "    try:\n",
    "        # Copy the element using the XPath variable 'Example'\n",
    "        result_button = driver.find_element(By.XPATH,'//*[@id=\"ember426\"]/div[2]/span/div/div[2]/div/div/div[2]/div[2]/ul/span')\n",
    "        \n",
    "        \n",
    "        telefones.at[index, 'ContaXP'] = 'Tem'\n",
    "        \n",
    "        #Login to multiple accounts\n",
    "        result_button.click()\n",
    "        \n",
    "        time.sleep(2)\n",
    "        \n",
    "        #Get the name of the individual\n",
    "        nome = driver.find_element(By.CLASS_NAME, 'text-title')\n",
    "        nome_conta = nome.text\n",
    "        \n",
    "        telefones.at[index, 'Nome'] = nome_conta\n",
    "        \n",
    "        classe = driver.find_element(By.CLASS_NAME, 'fa-times-circle')\n",
    "        classe.click()\n",
    "        \n",
    "\n",
    "    except :\n",
    "        telefones.at[index, 'ContaXP'] = 'NaoTem'\n",
    "        \n",
    "    time.sleep(1)\n",
    "        \n",
    " \n",
    "        \n",
    "    \n",
    "\n",
    "    # Go back to the previous page to search for the next phone number\n",
    "    search_box = driver.find_element(By.XPATH,'//*[@id=\"email-celular-telefone\"]')\n",
    "    search_box.clear()\n",
    "\n",
    "# Close the webdriver\n",
    "driver.quit()"
   ]
  },
  {
   "cell_type": "code",
   "execution_count": null,
   "metadata": {},
   "outputs": [],
   "source": [
    "#Download new dataframe\n",
    "telefones.to_excel('new_dataframe.xlsx')"
   ]
  }
 ],
 "metadata": {
  "language_info": {
   "name": "python"
  },
  "orig_nbformat": 4
 },
 "nbformat": 4,
 "nbformat_minor": 2
}
